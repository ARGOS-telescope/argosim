{
 "cells": [
  {
   "cell_type": "code",
   "execution_count": 8,
   "metadata": {},
   "outputs": [],
   "source": [
    "import numpy as np\n",
    "import matplotlib.pyplot as plt\n",
    "import argosim"
   ]
  },
  {
   "cell_type": "code",
   "execution_count": 6,
   "metadata": {},
   "outputs": [],
   "source": [
    "from argosim.antenna_utils import *\n",
    "from argosim.plot_utils import *\n",
    "from argosim.data_utils import *\n"
   ]
  },
  {
   "cell_type": "code",
   "execution_count": 9,
   "metadata": {},
   "outputs": [
    {
     "name": "stdout",
     "output_type": "stream",
     "text": [
      "Help on package argosim:\n",
      "\n",
      "NAME\n",
      "    argosim\n",
      "\n",
      "PACKAGE CONTENTS\n",
      "    antenna_utils\n",
      "    data_utils\n",
      "    plot_utils\n",
      "\n",
      "FILE\n",
      "    /Users/ec270266/anaconda3/envs/argosim/lib/python3.11/site-packages/argosim/__init__.py\n",
      "\n",
      "\n"
     ]
    }
   ],
   "source": [
    "help(argosim)"
   ]
  },
  {
   "cell_type": "code",
   "execution_count": null,
   "metadata": {},
   "outputs": [],
   "source": []
  }
 ],
 "metadata": {
  "kernelspec": {
   "display_name": "argosim",
   "language": "python",
   "name": "python3"
  },
  "language_info": {
   "codemirror_mode": {
    "name": "ipython",
    "version": 3
   },
   "file_extension": ".py",
   "mimetype": "text/x-python",
   "name": "python",
   "nbconvert_exporter": "python",
   "pygments_lexer": "ipython3",
   "version": "3.11.8"
  }
 },
 "nbformat": 4,
 "nbformat_minor": 2
}
