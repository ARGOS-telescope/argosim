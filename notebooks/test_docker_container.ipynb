{
 "cells": [
  {
   "cell_type": "code",
   "execution_count": 1,
   "metadata": {},
   "outputs": [
    {
     "name": "stdout",
     "output_type": "stream",
     "text": [
      "Help on package argosim:\n",
      "\n",
      "NAME\n",
      "    argosim - ARGOSIM.\n",
      "\n",
      "PACKAGE CONTENTS\n",
      "    antenna_utils\n",
      "    beam_utils\n",
      "    clean\n",
      "    data_utils\n",
      "    imaging_utils\n",
      "    metrics_utils\n",
      "    plot_utils\n",
      "    rand_utils\n",
      "\n",
      "FILE\n",
      "    /Users/ea265861/miniforge3/envs/test/lib/python3.11/site-packages/argosim/__init__.py\n",
      "\n",
      "\n"
     ]
    }
   ],
   "source": [
    "import argosim\n",
    "help(argosim)"
   ]
  },
  {
   "cell_type": "code",
   "execution_count": null,
   "metadata": {},
   "outputs": [],
   "source": []
  }
 ],
 "metadata": {
  "kernelspec": {
   "display_name": "Python 3 (ipykernel)",
   "language": "python",
   "name": "python3"
  },
  "language_info": {
   "codemirror_mode": {
    "name": "ipython",
    "version": 3
   },
   "file_extension": ".py",
   "mimetype": "text/x-python",
   "name": "python",
   "nbconvert_exporter": "python",
   "pygments_lexer": "ipython3",
   "version": "3.11.0"
  }
 },
 "nbformat": 4,
 "nbformat_minor": 4
}
